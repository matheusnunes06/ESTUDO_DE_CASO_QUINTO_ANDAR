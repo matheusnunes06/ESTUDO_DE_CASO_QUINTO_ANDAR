{
  "nbformat": 4,
  "nbformat_minor": 0,
  "metadata": {
    "colab": {
      "provenance": [],
      "authorship_tag": "ABX9TyO2PeuPN705CS02pdppHgLq",
      "include_colab_link": true
    },
    "kernelspec": {
      "name": "python3",
      "display_name": "Python 3"
    },
    "language_info": {
      "name": "python"
    }
  },
  "cells": [
    {
      "cell_type": "markdown",
      "metadata": {
        "id": "view-in-github",
        "colab_type": "text"
      },
      "source": [
        "<a href=\"https://colab.research.google.com/github/matheusnunes06/ESTUDO_DE_CASO_QUINTO_ANDAR/blob/main/PROJETO_ANALISE_DE_PRECO_DE_ALUGUEL.ipynb\" target=\"_parent\"><img src=\"https://colab.research.google.com/assets/colab-badge.svg\" alt=\"Open In Colab\"/></a>"
      ]
    },
    {
      "cell_type": "markdown",
      "source": [
        "####**1 - Problema**\n",
        "\n",
        "A empresa Quinto Andar solicitou ao seu analista, para que fosse feita uma análise nos registros de imóveis cadastrado em seu banco e verificar as seguintes informações :\n",
        "\n",
        "\n",
        "\n",
        "* Qual cidade contem o maior número de imóveis disponíveis no site, para locação?\n",
        "\n",
        "* Qual cidade tem os imóveis mais caros para locação?\n",
        "\n",
        "* O preço do aluguel pode ser impactado, se o cliente tiver animais de estimação?\n",
        "\n",
        "*  Em imóveis mobiliados, o valor do aluguel é maior?"
      ],
      "metadata": {
        "id": "rsC2MyWJIrIa"
      }
    },
    {
      "cell_type": "markdown",
      "source": [
        "####**2 - Documentação**\n",
        "\n",
        "Após extração de dados do banco de dados, foi fornecido um arquivo excel contendo as variáveis que serão utilizadas para responder o questionário acima descrito.\n",
        "\n",
        "Informações:\n",
        "\n",
        "*  Cidade - localização do imóvel\n",
        "*  Área - quantidade de área construída em m²\n",
        "*  Quartos - número de quartos existentes no imóvel\n",
        "*  Banheiros - número de banheiros existentes no imóvel\n",
        "*  Vagas_estacionamento - quantos carros cabem no imóvel\n",
        "*  Andar - posição do imóvel na construção geral\n",
        "*  Animal - demostra se é permitido animais de estimação ou não\n",
        "*  Taxa_condominio - valor pago de condomínio\n",
        "*  Preco_aluguel - valor cobrado pelo aluguel do imóvel\n",
        "*  Taxa_iptu - valor de iptu cobrado\n",
        "*  Taxa_incedio - Taxa de incêndio cobrada\n",
        "*  Total_aluguel - valor final cobrado mensalmente com todas as taxas\n",
        "\n"
      ],
      "metadata": {
        "id": "qKrwiaf7K-Vo"
      }
    },
    {
      "cell_type": "code",
      "source": [
        "#Carregando Bibliotecas utilizadas..\n",
        "import pandas as pd\n",
        "import seaborn as sns\n",
        "import matplotlib.pyplot as plt\n",
        "import numpy as np\n",
        "\n",
        "#utilizado pra mudar esquemas de cores do seaborn.\n",
        "sns.set(style = 'ticks')\n"
      ],
      "metadata": {
        "id": "V4rccYLaKs0l"
      },
      "execution_count": 8,
      "outputs": []
    },
    {
      "cell_type": "code",
      "execution_count": 9,
      "metadata": {
        "id": "xgwxDL63IdUs"
      },
      "outputs": [],
      "source": [
        "#Carregando o arquivo excel que será anailsado.\n",
        "df =pd.read_excel('casas_para_aluguel.xlsx')"
      ]
    },
    {
      "cell_type": "code",
      "source": [
        "#Verificando os nomes das colunas do Dataframe, se estão conforme a documentação, utilizando a função head.\n",
        "df.head()"
      ],
      "metadata": {
        "colab": {
          "base_uri": "https://localhost:8080/",
          "height": 250
        },
        "id": "xrJtY6MpSwxz",
        "outputId": "b6268387-b9cb-44a2-c348-ae515d7b7302"
      },
      "execution_count": 10,
      "outputs": [
        {
          "output_type": "execute_result",
          "data": {
            "text/plain": [
              "         cidade   area  quartos  banheiros  vagas_estacionamento andar animal  \\\n",
              "0     São Paulo   70.0      2.0        1.0                   1.0     7    sim   \n",
              "1     São Paulo  320.0      4.0        4.0                   0.0    20    sim   \n",
              "2  Porto Alegre   80.0      1.0        1.0                   1.0     6    sim   \n",
              "3  Porto Alegre   51.0      2.0        1.0                   0.0     2    sim   \n",
              "4     São Paulo   25.0      1.0        1.0                   0.0     1    nao   \n",
              "\n",
              "  mobiliado  taxa_condominio  preco_aluguel  taxa_iptu  taxa_incendio  \\\n",
              "0       sim           2065.0         3300.0      211.0           42.0   \n",
              "1       nao           1200.0         4960.0     1750.0           63.0   \n",
              "2       nao           1000.0         2800.0        0.0           41.0   \n",
              "3       nao            270.0         1112.0       22.0           17.0   \n",
              "4       nao              0.0          800.0       25.0           11.0   \n",
              "\n",
              "   total_aluguel  \n",
              "0         5618.0  \n",
              "1         7973.0  \n",
              "2         3841.0  \n",
              "3         1421.0  \n",
              "4          836.0  "
            ],
            "text/html": [
              "\n",
              "  <div id=\"df-49793fad-9b2b-4421-b7ca-7b4252bbd347\">\n",
              "    <div class=\"colab-df-container\">\n",
              "      <div>\n",
              "<style scoped>\n",
              "    .dataframe tbody tr th:only-of-type {\n",
              "        vertical-align: middle;\n",
              "    }\n",
              "\n",
              "    .dataframe tbody tr th {\n",
              "        vertical-align: top;\n",
              "    }\n",
              "\n",
              "    .dataframe thead th {\n",
              "        text-align: right;\n",
              "    }\n",
              "</style>\n",
              "<table border=\"1\" class=\"dataframe\">\n",
              "  <thead>\n",
              "    <tr style=\"text-align: right;\">\n",
              "      <th></th>\n",
              "      <th>cidade</th>\n",
              "      <th>area</th>\n",
              "      <th>quartos</th>\n",
              "      <th>banheiros</th>\n",
              "      <th>vagas_estacionamento</th>\n",
              "      <th>andar</th>\n",
              "      <th>animal</th>\n",
              "      <th>mobiliado</th>\n",
              "      <th>taxa_condominio</th>\n",
              "      <th>preco_aluguel</th>\n",
              "      <th>taxa_iptu</th>\n",
              "      <th>taxa_incendio</th>\n",
              "      <th>total_aluguel</th>\n",
              "    </tr>\n",
              "  </thead>\n",
              "  <tbody>\n",
              "    <tr>\n",
              "      <th>0</th>\n",
              "      <td>São Paulo</td>\n",
              "      <td>70.0</td>\n",
              "      <td>2.0</td>\n",
              "      <td>1.0</td>\n",
              "      <td>1.0</td>\n",
              "      <td>7</td>\n",
              "      <td>sim</td>\n",
              "      <td>sim</td>\n",
              "      <td>2065.0</td>\n",
              "      <td>3300.0</td>\n",
              "      <td>211.0</td>\n",
              "      <td>42.0</td>\n",
              "      <td>5618.0</td>\n",
              "    </tr>\n",
              "    <tr>\n",
              "      <th>1</th>\n",
              "      <td>São Paulo</td>\n",
              "      <td>320.0</td>\n",
              "      <td>4.0</td>\n",
              "      <td>4.0</td>\n",
              "      <td>0.0</td>\n",
              "      <td>20</td>\n",
              "      <td>sim</td>\n",
              "      <td>nao</td>\n",
              "      <td>1200.0</td>\n",
              "      <td>4960.0</td>\n",
              "      <td>1750.0</td>\n",
              "      <td>63.0</td>\n",
              "      <td>7973.0</td>\n",
              "    </tr>\n",
              "    <tr>\n",
              "      <th>2</th>\n",
              "      <td>Porto Alegre</td>\n",
              "      <td>80.0</td>\n",
              "      <td>1.0</td>\n",
              "      <td>1.0</td>\n",
              "      <td>1.0</td>\n",
              "      <td>6</td>\n",
              "      <td>sim</td>\n",
              "      <td>nao</td>\n",
              "      <td>1000.0</td>\n",
              "      <td>2800.0</td>\n",
              "      <td>0.0</td>\n",
              "      <td>41.0</td>\n",
              "      <td>3841.0</td>\n",
              "    </tr>\n",
              "    <tr>\n",
              "      <th>3</th>\n",
              "      <td>Porto Alegre</td>\n",
              "      <td>51.0</td>\n",
              "      <td>2.0</td>\n",
              "      <td>1.0</td>\n",
              "      <td>0.0</td>\n",
              "      <td>2</td>\n",
              "      <td>sim</td>\n",
              "      <td>nao</td>\n",
              "      <td>270.0</td>\n",
              "      <td>1112.0</td>\n",
              "      <td>22.0</td>\n",
              "      <td>17.0</td>\n",
              "      <td>1421.0</td>\n",
              "    </tr>\n",
              "    <tr>\n",
              "      <th>4</th>\n",
              "      <td>São Paulo</td>\n",
              "      <td>25.0</td>\n",
              "      <td>1.0</td>\n",
              "      <td>1.0</td>\n",
              "      <td>0.0</td>\n",
              "      <td>1</td>\n",
              "      <td>nao</td>\n",
              "      <td>nao</td>\n",
              "      <td>0.0</td>\n",
              "      <td>800.0</td>\n",
              "      <td>25.0</td>\n",
              "      <td>11.0</td>\n",
              "      <td>836.0</td>\n",
              "    </tr>\n",
              "  </tbody>\n",
              "</table>\n",
              "</div>\n",
              "      <button class=\"colab-df-convert\" onclick=\"convertToInteractive('df-49793fad-9b2b-4421-b7ca-7b4252bbd347')\"\n",
              "              title=\"Convert this dataframe to an interactive table.\"\n",
              "              style=\"display:none;\">\n",
              "        \n",
              "  <svg xmlns=\"http://www.w3.org/2000/svg\" height=\"24px\"viewBox=\"0 0 24 24\"\n",
              "       width=\"24px\">\n",
              "    <path d=\"M0 0h24v24H0V0z\" fill=\"none\"/>\n",
              "    <path d=\"M18.56 5.44l.94 2.06.94-2.06 2.06-.94-2.06-.94-.94-2.06-.94 2.06-2.06.94zm-11 1L8.5 8.5l.94-2.06 2.06-.94-2.06-.94L8.5 2.5l-.94 2.06-2.06.94zm10 10l.94 2.06.94-2.06 2.06-.94-2.06-.94-.94-2.06-.94 2.06-2.06.94z\"/><path d=\"M17.41 7.96l-1.37-1.37c-.4-.4-.92-.59-1.43-.59-.52 0-1.04.2-1.43.59L10.3 9.45l-7.72 7.72c-.78.78-.78 2.05 0 2.83L4 21.41c.39.39.9.59 1.41.59.51 0 1.02-.2 1.41-.59l7.78-7.78 2.81-2.81c.8-.78.8-2.07 0-2.86zM5.41 20L4 18.59l7.72-7.72 1.47 1.35L5.41 20z\"/>\n",
              "  </svg>\n",
              "      </button>\n",
              "      \n",
              "  <style>\n",
              "    .colab-df-container {\n",
              "      display:flex;\n",
              "      flex-wrap:wrap;\n",
              "      gap: 12px;\n",
              "    }\n",
              "\n",
              "    .colab-df-convert {\n",
              "      background-color: #E8F0FE;\n",
              "      border: none;\n",
              "      border-radius: 50%;\n",
              "      cursor: pointer;\n",
              "      display: none;\n",
              "      fill: #1967D2;\n",
              "      height: 32px;\n",
              "      padding: 0 0 0 0;\n",
              "      width: 32px;\n",
              "    }\n",
              "\n",
              "    .colab-df-convert:hover {\n",
              "      background-color: #E2EBFA;\n",
              "      box-shadow: 0px 1px 2px rgba(60, 64, 67, 0.3), 0px 1px 3px 1px rgba(60, 64, 67, 0.15);\n",
              "      fill: #174EA6;\n",
              "    }\n",
              "\n",
              "    [theme=dark] .colab-df-convert {\n",
              "      background-color: #3B4455;\n",
              "      fill: #D2E3FC;\n",
              "    }\n",
              "\n",
              "    [theme=dark] .colab-df-convert:hover {\n",
              "      background-color: #434B5C;\n",
              "      box-shadow: 0px 1px 3px 1px rgba(0, 0, 0, 0.15);\n",
              "      filter: drop-shadow(0px 1px 2px rgba(0, 0, 0, 0.3));\n",
              "      fill: #FFFFFF;\n",
              "    }\n",
              "  </style>\n",
              "\n",
              "      <script>\n",
              "        const buttonEl =\n",
              "          document.querySelector('#df-49793fad-9b2b-4421-b7ca-7b4252bbd347 button.colab-df-convert');\n",
              "        buttonEl.style.display =\n",
              "          google.colab.kernel.accessAllowed ? 'block' : 'none';\n",
              "\n",
              "        async function convertToInteractive(key) {\n",
              "          const element = document.querySelector('#df-49793fad-9b2b-4421-b7ca-7b4252bbd347');\n",
              "          const dataTable =\n",
              "            await google.colab.kernel.invokeFunction('convertToInteractive',\n",
              "                                                     [key], {});\n",
              "          if (!dataTable) return;\n",
              "\n",
              "          const docLinkHtml = 'Like what you see? Visit the ' +\n",
              "            '<a target=\"_blank\" href=https://colab.research.google.com/notebooks/data_table.ipynb>data table notebook</a>'\n",
              "            + ' to learn more about interactive tables.';\n",
              "          element.innerHTML = '';\n",
              "          dataTable['output_type'] = 'display_data';\n",
              "          await google.colab.output.renderOutput(dataTable, element);\n",
              "          const docLink = document.createElement('div');\n",
              "          docLink.innerHTML = docLinkHtml;\n",
              "          element.appendChild(docLink);\n",
              "        }\n",
              "      </script>\n",
              "    </div>\n",
              "  </div>\n",
              "  "
            ]
          },
          "metadata": {},
          "execution_count": 10
        }
      ]
    },
    {
      "cell_type": "code",
      "source": [
        "#Verificando caracteriticas do dataframe.\n",
        "df.info()\n",
        "\n",
        "'''Podemos verificar o tipo de cada coluna, o nome das colunas, o total de colunas, o total de linhas, se existem elementos faltantes.\n",
        "No Dataframe utilizado, foi verificado que não existe elemenos nulos.'''"
      ],
      "metadata": {
        "colab": {
          "base_uri": "https://localhost:8080/",
          "height": 400
        },
        "id": "N1iguAarSw4Z",
        "outputId": "f23376a9-f4cc-48e3-9d83-b31493c2a9e0"
      },
      "execution_count": 11,
      "outputs": [
        {
          "output_type": "stream",
          "name": "stdout",
          "text": [
            "<class 'pandas.core.frame.DataFrame'>\n",
            "RangeIndex: 10692 entries, 0 to 10691\n",
            "Data columns (total 13 columns):\n",
            " #   Column                Non-Null Count  Dtype  \n",
            "---  ------                --------------  -----  \n",
            " 0   cidade                10692 non-null  object \n",
            " 1   area                  10692 non-null  float64\n",
            " 2   quartos               10692 non-null  float64\n",
            " 3   banheiros             10692 non-null  float64\n",
            " 4   vagas_estacionamento  10692 non-null  float64\n",
            " 5   andar                 10692 non-null  object \n",
            " 6   animal                10692 non-null  object \n",
            " 7   mobiliado             10692 non-null  object \n",
            " 8   taxa_condominio       10692 non-null  float64\n",
            " 9   preco_aluguel         10692 non-null  float64\n",
            " 10  taxa_iptu             10692 non-null  float64\n",
            " 11  taxa_incendio         10692 non-null  float64\n",
            " 12  total_aluguel         10692 non-null  float64\n",
            "dtypes: float64(9), object(4)\n",
            "memory usage: 1.1+ MB\n"
          ]
        },
        {
          "output_type": "execute_result",
          "data": {
            "text/plain": [
              "'Podemos verificar o tipo de cada coluna, o nome das colunas, o total de colunas, o total de linhas, se existem elementos faltantes.\\nNo Dataframe utilizado, foi verificado que não existe elemenos nulos.'"
            ],
            "application/vnd.google.colaboratory.intrinsic+json": {
              "type": "string"
            }
          },
          "metadata": {},
          "execution_count": 11
        }
      ]
    },
    {
      "cell_type": "code",
      "source": [
        "#verificando a porcentagem de valores nulos, para confirmar a informação anterior, que não existe valores nulos no dataframe.\n",
        "100*df.isnull().sum()/df.shape[0]"
      ],
      "metadata": {
        "colab": {
          "base_uri": "https://localhost:8080/"
        },
        "id": "VtW_oFUDfpWe",
        "outputId": "607adfa5-00c6-421e-b581-762a06fd1856"
      },
      "execution_count": 12,
      "outputs": [
        {
          "output_type": "execute_result",
          "data": {
            "text/plain": [
              "cidade                  0.0\n",
              "area                    0.0\n",
              "quartos                 0.0\n",
              "banheiros               0.0\n",
              "vagas_estacionamento    0.0\n",
              "andar                   0.0\n",
              "animal                  0.0\n",
              "mobiliado               0.0\n",
              "taxa_condominio         0.0\n",
              "preco_aluguel           0.0\n",
              "taxa_iptu               0.0\n",
              "taxa_incendio           0.0\n",
              "total_aluguel           0.0\n",
              "dtype: float64"
            ]
          },
          "metadata": {},
          "execution_count": 12
        }
      ]
    },
    {
      "cell_type": "markdown",
      "source": [
        "Desse modo, confirmamos a informação."
      ],
      "metadata": {
        "id": "o88yvbGzf1Y4"
      }
    },
    {
      "cell_type": "code",
      "source": [
        "#Verificando o shape do dataframe, e confirmando a informação acima.\n",
        "df.shape"
      ],
      "metadata": {
        "colab": {
          "base_uri": "https://localhost:8080/"
        },
        "id": "dlb4wit7SxDu",
        "outputId": "f988d02e-fe4b-46cd-f1de-2305c97d616a"
      },
      "execution_count": 13,
      "outputs": [
        {
          "output_type": "execute_result",
          "data": {
            "text/plain": [
              "(10692, 13)"
            ]
          },
          "metadata": {},
          "execution_count": 13
        }
      ]
    },
    {
      "cell_type": "code",
      "source": [
        "# Para verificar somente a informações dos tipos existentes em cada coluna.\n",
        "df.dtypes"
      ],
      "metadata": {
        "colab": {
          "base_uri": "https://localhost:8080/"
        },
        "id": "7FtJGb34SxK0",
        "outputId": "2e044756-7bde-4eec-87be-acfb327642b1"
      },
      "execution_count": 14,
      "outputs": [
        {
          "output_type": "execute_result",
          "data": {
            "text/plain": [
              "cidade                   object\n",
              "area                    float64\n",
              "quartos                 float64\n",
              "banheiros               float64\n",
              "vagas_estacionamento    float64\n",
              "andar                    object\n",
              "animal                   object\n",
              "mobiliado                object\n",
              "taxa_condominio         float64\n",
              "preco_aluguel           float64\n",
              "taxa_iptu               float64\n",
              "taxa_incendio           float64\n",
              "total_aluguel           float64\n",
              "dtype: object"
            ]
          },
          "metadata": {},
          "execution_count": 14
        }
      ]
    },
    {
      "cell_type": "code",
      "source": [
        "#Verificando informações gerais do dataframe.\n",
        "df.describe().round(2)\n",
        "\n"
      ],
      "metadata": {
        "colab": {
          "base_uri": "https://localhost:8080/",
          "height": 300
        },
        "id": "9mtoNPnCXUq6",
        "outputId": "b2041493-a5e2-4cba-d5cd-ff4dd2e348b3"
      },
      "execution_count": 18,
      "outputs": [
        {
          "output_type": "execute_result",
          "data": {
            "text/plain": [
              "           area   quartos  banheiros  vagas_estacionamento  taxa_condominio  \\\n",
              "count  10692.00  10692.00   10692.00              10692.00         10692.00   \n",
              "mean     149.22      2.51       2.24                  1.61          1174.02   \n",
              "std      537.02      1.17       1.41                  1.59         15592.31   \n",
              "min       11.00      1.00       1.00                  0.00             0.00   \n",
              "25%       56.00      2.00       1.00                  0.00           170.00   \n",
              "50%       90.00      2.00       2.00                  1.00           560.00   \n",
              "75%      182.00      3.00       3.00                  2.00          1237.50   \n",
              "max    46335.00     13.00      10.00                 12.00       1117000.00   \n",
              "\n",
              "       preco_aluguel  taxa_iptu  taxa_incendio  total_aluguel  \n",
              "count       10692.00   10692.00       10692.00       10692.00  \n",
              "mean         3896.25     366.70          53.30        5490.49  \n",
              "std          3408.55    3107.83          47.77       16484.73  \n",
              "min           450.00       0.00           3.00         499.00  \n",
              "25%          1530.00      38.00          21.00        2061.75  \n",
              "50%          2661.00     125.00          36.00        3581.50  \n",
              "75%          5000.00     375.00          68.00        6768.00  \n",
              "max         45000.00  313700.00         677.00     1120000.00  "
            ],
            "text/html": [
              "\n",
              "  <div id=\"df-5ed1ba3b-f4bc-4d95-a4c0-183e4ee8211e\">\n",
              "    <div class=\"colab-df-container\">\n",
              "      <div>\n",
              "<style scoped>\n",
              "    .dataframe tbody tr th:only-of-type {\n",
              "        vertical-align: middle;\n",
              "    }\n",
              "\n",
              "    .dataframe tbody tr th {\n",
              "        vertical-align: top;\n",
              "    }\n",
              "\n",
              "    .dataframe thead th {\n",
              "        text-align: right;\n",
              "    }\n",
              "</style>\n",
              "<table border=\"1\" class=\"dataframe\">\n",
              "  <thead>\n",
              "    <tr style=\"text-align: right;\">\n",
              "      <th></th>\n",
              "      <th>area</th>\n",
              "      <th>quartos</th>\n",
              "      <th>banheiros</th>\n",
              "      <th>vagas_estacionamento</th>\n",
              "      <th>taxa_condominio</th>\n",
              "      <th>preco_aluguel</th>\n",
              "      <th>taxa_iptu</th>\n",
              "      <th>taxa_incendio</th>\n",
              "      <th>total_aluguel</th>\n",
              "    </tr>\n",
              "  </thead>\n",
              "  <tbody>\n",
              "    <tr>\n",
              "      <th>count</th>\n",
              "      <td>10692.00</td>\n",
              "      <td>10692.00</td>\n",
              "      <td>10692.00</td>\n",
              "      <td>10692.00</td>\n",
              "      <td>10692.00</td>\n",
              "      <td>10692.00</td>\n",
              "      <td>10692.00</td>\n",
              "      <td>10692.00</td>\n",
              "      <td>10692.00</td>\n",
              "    </tr>\n",
              "    <tr>\n",
              "      <th>mean</th>\n",
              "      <td>149.22</td>\n",
              "      <td>2.51</td>\n",
              "      <td>2.24</td>\n",
              "      <td>1.61</td>\n",
              "      <td>1174.02</td>\n",
              "      <td>3896.25</td>\n",
              "      <td>366.70</td>\n",
              "      <td>53.30</td>\n",
              "      <td>5490.49</td>\n",
              "    </tr>\n",
              "    <tr>\n",
              "      <th>std</th>\n",
              "      <td>537.02</td>\n",
              "      <td>1.17</td>\n",
              "      <td>1.41</td>\n",
              "      <td>1.59</td>\n",
              "      <td>15592.31</td>\n",
              "      <td>3408.55</td>\n",
              "      <td>3107.83</td>\n",
              "      <td>47.77</td>\n",
              "      <td>16484.73</td>\n",
              "    </tr>\n",
              "    <tr>\n",
              "      <th>min</th>\n",
              "      <td>11.00</td>\n",
              "      <td>1.00</td>\n",
              "      <td>1.00</td>\n",
              "      <td>0.00</td>\n",
              "      <td>0.00</td>\n",
              "      <td>450.00</td>\n",
              "      <td>0.00</td>\n",
              "      <td>3.00</td>\n",
              "      <td>499.00</td>\n",
              "    </tr>\n",
              "    <tr>\n",
              "      <th>25%</th>\n",
              "      <td>56.00</td>\n",
              "      <td>2.00</td>\n",
              "      <td>1.00</td>\n",
              "      <td>0.00</td>\n",
              "      <td>170.00</td>\n",
              "      <td>1530.00</td>\n",
              "      <td>38.00</td>\n",
              "      <td>21.00</td>\n",
              "      <td>2061.75</td>\n",
              "    </tr>\n",
              "    <tr>\n",
              "      <th>50%</th>\n",
              "      <td>90.00</td>\n",
              "      <td>2.00</td>\n",
              "      <td>2.00</td>\n",
              "      <td>1.00</td>\n",
              "      <td>560.00</td>\n",
              "      <td>2661.00</td>\n",
              "      <td>125.00</td>\n",
              "      <td>36.00</td>\n",
              "      <td>3581.50</td>\n",
              "    </tr>\n",
              "    <tr>\n",
              "      <th>75%</th>\n",
              "      <td>182.00</td>\n",
              "      <td>3.00</td>\n",
              "      <td>3.00</td>\n",
              "      <td>2.00</td>\n",
              "      <td>1237.50</td>\n",
              "      <td>5000.00</td>\n",
              "      <td>375.00</td>\n",
              "      <td>68.00</td>\n",
              "      <td>6768.00</td>\n",
              "    </tr>\n",
              "    <tr>\n",
              "      <th>max</th>\n",
              "      <td>46335.00</td>\n",
              "      <td>13.00</td>\n",
              "      <td>10.00</td>\n",
              "      <td>12.00</td>\n",
              "      <td>1117000.00</td>\n",
              "      <td>45000.00</td>\n",
              "      <td>313700.00</td>\n",
              "      <td>677.00</td>\n",
              "      <td>1120000.00</td>\n",
              "    </tr>\n",
              "  </tbody>\n",
              "</table>\n",
              "</div>\n",
              "      <button class=\"colab-df-convert\" onclick=\"convertToInteractive('df-5ed1ba3b-f4bc-4d95-a4c0-183e4ee8211e')\"\n",
              "              title=\"Convert this dataframe to an interactive table.\"\n",
              "              style=\"display:none;\">\n",
              "        \n",
              "  <svg xmlns=\"http://www.w3.org/2000/svg\" height=\"24px\"viewBox=\"0 0 24 24\"\n",
              "       width=\"24px\">\n",
              "    <path d=\"M0 0h24v24H0V0z\" fill=\"none\"/>\n",
              "    <path d=\"M18.56 5.44l.94 2.06.94-2.06 2.06-.94-2.06-.94-.94-2.06-.94 2.06-2.06.94zm-11 1L8.5 8.5l.94-2.06 2.06-.94-2.06-.94L8.5 2.5l-.94 2.06-2.06.94zm10 10l.94 2.06.94-2.06 2.06-.94-2.06-.94-.94-2.06-.94 2.06-2.06.94z\"/><path d=\"M17.41 7.96l-1.37-1.37c-.4-.4-.92-.59-1.43-.59-.52 0-1.04.2-1.43.59L10.3 9.45l-7.72 7.72c-.78.78-.78 2.05 0 2.83L4 21.41c.39.39.9.59 1.41.59.51 0 1.02-.2 1.41-.59l7.78-7.78 2.81-2.81c.8-.78.8-2.07 0-2.86zM5.41 20L4 18.59l7.72-7.72 1.47 1.35L5.41 20z\"/>\n",
              "  </svg>\n",
              "      </button>\n",
              "      \n",
              "  <style>\n",
              "    .colab-df-container {\n",
              "      display:flex;\n",
              "      flex-wrap:wrap;\n",
              "      gap: 12px;\n",
              "    }\n",
              "\n",
              "    .colab-df-convert {\n",
              "      background-color: #E8F0FE;\n",
              "      border: none;\n",
              "      border-radius: 50%;\n",
              "      cursor: pointer;\n",
              "      display: none;\n",
              "      fill: #1967D2;\n",
              "      height: 32px;\n",
              "      padding: 0 0 0 0;\n",
              "      width: 32px;\n",
              "    }\n",
              "\n",
              "    .colab-df-convert:hover {\n",
              "      background-color: #E2EBFA;\n",
              "      box-shadow: 0px 1px 2px rgba(60, 64, 67, 0.3), 0px 1px 3px 1px rgba(60, 64, 67, 0.15);\n",
              "      fill: #174EA6;\n",
              "    }\n",
              "\n",
              "    [theme=dark] .colab-df-convert {\n",
              "      background-color: #3B4455;\n",
              "      fill: #D2E3FC;\n",
              "    }\n",
              "\n",
              "    [theme=dark] .colab-df-convert:hover {\n",
              "      background-color: #434B5C;\n",
              "      box-shadow: 0px 1px 3px 1px rgba(0, 0, 0, 0.15);\n",
              "      filter: drop-shadow(0px 1px 2px rgba(0, 0, 0, 0.3));\n",
              "      fill: #FFFFFF;\n",
              "    }\n",
              "  </style>\n",
              "\n",
              "      <script>\n",
              "        const buttonEl =\n",
              "          document.querySelector('#df-5ed1ba3b-f4bc-4d95-a4c0-183e4ee8211e button.colab-df-convert');\n",
              "        buttonEl.style.display =\n",
              "          google.colab.kernel.accessAllowed ? 'block' : 'none';\n",
              "\n",
              "        async function convertToInteractive(key) {\n",
              "          const element = document.querySelector('#df-5ed1ba3b-f4bc-4d95-a4c0-183e4ee8211e');\n",
              "          const dataTable =\n",
              "            await google.colab.kernel.invokeFunction('convertToInteractive',\n",
              "                                                     [key], {});\n",
              "          if (!dataTable) return;\n",
              "\n",
              "          const docLinkHtml = 'Like what you see? Visit the ' +\n",
              "            '<a target=\"_blank\" href=https://colab.research.google.com/notebooks/data_table.ipynb>data table notebook</a>'\n",
              "            + ' to learn more about interactive tables.';\n",
              "          element.innerHTML = '';\n",
              "          dataTable['output_type'] = 'display_data';\n",
              "          await google.colab.output.renderOutput(dataTable, element);\n",
              "          const docLink = document.createElement('div');\n",
              "          docLink.innerHTML = docLinkHtml;\n",
              "          element.appendChild(docLink);\n",
              "        }\n",
              "      </script>\n",
              "    </div>\n",
              "  </div>\n",
              "  "
            ]
          },
          "metadata": {},
          "execution_count": 18
        }
      ]
    },
    {
      "cell_type": "markdown",
      "source": [
        "Dessa maneira, é possivel visualizar de maneira geral, o menor valor de alguel de um imóvel, o maior valor de aluguel de um imóvel,\n",
        "a média de valor de alguel, dentre outras informações relevantes."
      ],
      "metadata": {
        "id": "CSs5g7On2YtE"
      }
    },
    {
      "cell_type": "code",
      "source": [
        "#Verificando boxplot.\n",
        "fig, ax = plt.subplots()\n",
        "ax.set(yscale=\"log\")\n",
        "sns.boxplot(data=df.total_aluguel, y=(df.total_aluguel+1))\n",
        "plt.show()"
      ],
      "metadata": {
        "colab": {
          "base_uri": "https://localhost:8080/",
          "height": 254
        },
        "id": "qHVbPya9g5Sb",
        "outputId": "12d14c55-71e1-4126-ad0e-5d24434e5986"
      },
      "execution_count": 19,
      "outputs": [
        {
          "output_type": "display_data",
          "data": {
            "text/plain": [
              "<Figure size 432x288 with 1 Axes>"
            ],
            "image/png": "[encoded data removed]"
          },
          "metadata": {}
        }
      ]
    },
    {
      "cell_type": "markdown",
      "source": [
        "Com o boxplot, podemos visualizar que existem potênciais valores discrepantes (outliers), no dataframe."
      ],
      "metadata": {
        "id": "NpJmgSs7F1QN"
      }
    },
    {
      "cell_type": "markdown",
      "source": [
        "####**Qual cidade contém o maior número de imóveis disponíveis no site, para locação?**"
      ],
      "metadata": {
        "id": "wVp_SJONZWqu"
      }
    },
    {
      "cell_type": "code",
      "source": [
        "#Verifacando em quantas cidades o dataframe em questão, dispõe de imóveis para aluguel.\n",
        "'''Temos como resposta, que no momento, o site dispões de imóveis em 5 cidades no Brasil'''\n",
        "df['cidade'].unique()"
      ],
      "metadata": {
        "colab": {
          "base_uri": "https://localhost:8080/"
        },
        "id": "0b4CTEolSxNN",
        "outputId": "afe75f28-c8a3-4e78-eddf-341106a7508b"
      },
      "execution_count": 21,
      "outputs": [
        {
          "output_type": "execute_result",
          "data": {
            "text/plain": [
              "array(['São Paulo', 'Porto Alegre', 'Rio de Janeiro', 'Campinas',\n",
              "       'Belo Horizonte'], dtype=object)"
            ]
          },
          "metadata": {},
          "execution_count": 21
        }
      ]
    },
    {
      "cell_type": "markdown",
      "source": [
        "Temos como resposta, que no momento, o site dispões de imóveis em 5 cidades no Brasil."
      ],
      "metadata": {
        "id": "sf06TTND2fgr"
      }
    },
    {
      "cell_type": "code",
      "source": [
        "#Verificando em qual cidade contém mais imóveis disponíveis.\n",
        "\n",
        "df['cidade'].value_counts()"
      ],
      "metadata": {
        "colab": {
          "base_uri": "https://localhost:8080/"
        },
        "id": "1KbqAKt2SxPe",
        "outputId": "a99f4e46-2213-446e-b701-9fbe5eb97187"
      },
      "execution_count": 22,
      "outputs": [
        {
          "output_type": "execute_result",
          "data": {
            "text/plain": [
              "São Paulo         5887\n",
              "Rio de Janeiro    1501\n",
              "Belo Horizonte    1258\n",
              "Porto Alegre      1193\n",
              "Campinas           853\n",
              "Name: cidade, dtype: int64"
            ]
          },
          "metadata": {},
          "execution_count": 22
        }
      ]
    },
    {
      "cell_type": "markdown",
      "source": [
        "Dessa maneira, é possivel visualizar quais são as cidades e que o maior numero de imóveis estão localizados em São Paulo.\n",
        "Dessa maneira, conseguimos solucionar o primeiro questionamento solicitado."
      ],
      "metadata": {
        "id": "70OZlOiw2l6l"
      }
    },
    {
      "cell_type": "code",
      "source": [
        "#Podemos verificar o percentual de imóveis, por cidades\n",
        "porcentagem_imóveis_cidade =100*df['cidade'].value_counts(normalize = True).round(2)\n",
        "porcentagem_imóveis_cidade"
      ],
      "metadata": {
        "colab": {
          "base_uri": "https://localhost:8080/"
        },
        "id": "RaYwee6cgId3",
        "outputId": "4da8d5f8-a13b-43d9-eab3-8005de76eddb"
      },
      "execution_count": 23,
      "outputs": [
        {
          "output_type": "execute_result",
          "data": {
            "text/plain": [
              "São Paulo         55.0\n",
              "Rio de Janeiro    14.0\n",
              "Belo Horizonte    12.0\n",
              "Porto Alegre      11.0\n",
              "Campinas           8.0\n",
              "Name: cidade, dtype: float64"
            ]
          },
          "metadata": {},
          "execution_count": 23
        }
      ]
    },
    {
      "cell_type": "code",
      "source": [
        "#Utilizando o gráfico piechart, conseguimos visualizar de maneira gráfica o percentual de imóveis por cidades.\n",
        "#definindo variáveis para serem usadas no gráfico.\n",
        "label = df['cidade'].unique()\n",
        "porcentagem = porcentagem_imóveis_cidade\n",
        "separar = (0.1, 0, 0, 0, 0)\n",
        "\n",
        "plt.figure(figsize = (15,5)) \n",
        "#autopct= '%1.1f%%' é utlizado para plotar o valor percentual da variável porcentagem, no gráfico.\n",
        "#Foi criada a variável separar, com uma tupla e uma pequena variação na posição da cidade com maior porcentagem, para separar essa\n",
        "#informação no gráfico e deixar em evidência.\n",
        "plt.pie(x = porcentagem, labels = label, explode= separar, autopct= '%1.1f%%', startangle = 90, shadow= True)\n",
        "\n",
        "plt.show()"
      ],
      "metadata": {
        "colab": {
          "base_uri": "https://localhost:8080/",
          "height": 303
        },
        "id": "Pi01kwAUVxgT",
        "outputId": "4f2424c7-b5af-4b32-fca4-463d27bd2966"
      },
      "execution_count": 24,
      "outputs": [
        {
          "output_type": "display_data",
          "data": {
            "text/plain": [
              "<Figure size 1080x360 with 1 Axes>"
            ],
            "image/png": "[encoded data removed]"
          },
          "metadata": {}
        }
      ]
    },
    {
      "cell_type": "markdown",
      "source": [
        "Temos como resposta, que no momento, a cidade que mais dispõe de imóveis para alugar, é São Paulo, contendo 55% dos imóveis."
      ],
      "metadata": {
        "id": "GXunSOrsZoI3"
      }
    },
    {
      "cell_type": "code",
      "source": [
        "#caso seja necessário alterar o tamanho do gráfico, usamos oa função plt.figure( figsize=(x,y))\n",
        "plt.figure(figsize = (10,5))\n",
        "sns.countplot(df['cidade'])\n",
        "plt.show()"
      ],
      "metadata": {
        "colab": {
          "base_uri": "https://localhost:8080/",
          "height": 394
        },
        "id": "g3C36PIkW8FX",
        "outputId": "423bbfa8-5e39-458b-9030-db7f26fab42d"
      },
      "execution_count": 25,
      "outputs": [
        {
          "output_type": "stream",
          "name": "stderr",
          "text": [
            "/usr/local/lib/python3.8/dist-packages/seaborn/_decorators.py:36: FutureWarning: Pass the following variable as a keyword arg: x. From version 0.12, the only valid positional argument will be `data`, and passing other arguments without an explicit keyword will result in an error or misinterpretation.\n",
            "  warnings.warn(\n"
          ]
        },
        {
          "output_type": "display_data",
          "data": {
            "text/plain": [
              "<Figure size 720x360 with 1 Axes>"
            ],
            "image/png": "[encoded data removed]"
          },
          "metadata": {}
        }
      ]
    },
    {
      "cell_type": "markdown",
      "source": [
        "Dessa outra forma, também conseguimos demonstrar de maneira visual a quantidade de cidades e qual delas tem o maior número de imóveis."
      ],
      "metadata": {
        "id": "vC-3XdmzcOSz"
      }
    },
    {
      "cell_type": "markdown",
      "source": [
        "####**Qual cidade tem os imóveis mais caros para locação?**"
      ],
      "metadata": {
        "id": "bBdoRteCc5uU"
      }
    },
    {
      "cell_type": "code",
      "source": [
        "#ordernando a variável pela coluna cidade em relação a coluna total_aluguel\n",
        "maior_preco = df.groupby('cidade')['total_aluguel'].describe().reset_index()\n",
        "maior_preco.sort_values(['mean','count'], ascending=False).head()"
      ],
      "metadata": {
        "colab": {
          "base_uri": "https://localhost:8080/",
          "height": 206
        },
        "id": "7Z6AKxKXW8JU",
        "outputId": "ff9e44c2-98dc-44d7-b208-98cf4149c893"
      },
      "execution_count": 26,
      "outputs": [
        {
          "output_type": "execute_result",
          "data": {
            "text/plain": [
              "           cidade   count         mean           std    min      25%     50%  \\\n",
              "4       São Paulo  5887.0  6380.831833   7541.320897  508.0  2631.00  4596.0   \n",
              "0  Belo Horizonte  1258.0  6315.242448  44654.831555  499.0  1611.25  3040.0   \n",
              "3  Rio de Janeiro  1501.0  4611.684877   4425.357934  507.0  2067.00  3253.0   \n",
              "1        Campinas   853.0  3173.276671   2857.281849  711.0  1417.00  2140.0   \n",
              "2    Porto Alegre  1193.0  2989.782900   2734.499521  509.0  1465.00  2211.0   \n",
              "\n",
              "       75%        max  \n",
              "4  8591.00   316900.0  \n",
              "0  5925.75  1120000.0  \n",
              "3  5566.00    95610.0  \n",
              "1  3632.00    20560.0  \n",
              "2  3338.00    32750.0  "
            ],
            "text/html": [
              "\n",
              "  <div id=\"df-cf156f7d-c8ac-4553-8591-f9e73b84db16\">\n",
              "    <div class=\"colab-df-container\">\n",
              "      <div>\n",
              "<style scoped>\n",
              "    .dataframe tbody tr th:only-of-type {\n",
              "        vertical-align: middle;\n",
              "    }\n",
              "\n",
              "    .dataframe tbody tr th {\n",
              "        vertical-align: top;\n",
              "    }\n",
              "\n",
              "    .dataframe thead th {\n",
              "        text-align: right;\n",
              "    }\n",
              "</style>\n",
              "<table border=\"1\" class=\"dataframe\">\n",
              "  <thead>\n",
              "    <tr style=\"text-align: right;\">\n",
              "      <th></th>\n",
              "      <th>cidade</th>\n",
              "      <th>count</th>\n",
              "      <th>mean</th>\n",
              "      <th>std</th>\n",
              "      <th>min</th>\n",
              "      <th>25%</th>\n",
              "      <th>50%</th>\n",
              "      <th>75%</th>\n",
              "      <th>max</th>\n",
              "    </tr>\n",
              "  </thead>\n",
              "  <tbody>\n",
              "    <tr>\n",
              "      <th>4</th>\n",
              "      <td>São Paulo</td>\n",
              "      <td>5887.0</td>\n",
              "      <td>6380.831833</td>\n",
              "      <td>7541.320897</td>\n",
              "      <td>508.0</td>\n",
              "      <td>2631.00</td>\n",
              "      <td>4596.0</td>\n",
              "      <td>8591.00</td>\n",
              "      <td>316900.0</td>\n",
              "    </tr>\n",
              "    <tr>\n",
              "      <th>0</th>\n",
              "      <td>Belo Horizonte</td>\n",
              "      <td>1258.0</td>\n",
              "      <td>6315.242448</td>\n",
              "      <td>44654.831555</td>\n",
              "      <td>499.0</td>\n",
              "      <td>1611.25</td>\n",
              "      <td>3040.0</td>\n",
              "      <td>5925.75</td>\n",
              "      <td>1120000.0</td>\n",
              "    </tr>\n",
              "    <tr>\n",
              "      <th>3</th>\n",
              "      <td>Rio de Janeiro</td>\n",
              "      <td>1501.0</td>\n",
              "      <td>4611.684877</td>\n",
              "      <td>4425.357934</td>\n",
              "      <td>507.0</td>\n",
              "      <td>2067.00</td>\n",
              "      <td>3253.0</td>\n",
              "      <td>5566.00</td>\n",
              "      <td>95610.0</td>\n",
              "    </tr>\n",
              "    <tr>\n",
              "      <th>1</th>\n",
              "      <td>Campinas</td>\n",
              "      <td>853.0</td>\n",
              "      <td>3173.276671</td>\n",
              "      <td>2857.281849</td>\n",
              "      <td>711.0</td>\n",
              "      <td>1417.00</td>\n",
              "      <td>2140.0</td>\n",
              "      <td>3632.00</td>\n",
              "      <td>20560.0</td>\n",
              "    </tr>\n",
              "    <tr>\n",
              "      <th>2</th>\n",
              "      <td>Porto Alegre</td>\n",
              "      <td>1193.0</td>\n",
              "      <td>2989.782900</td>\n",
              "      <td>2734.499521</td>\n",
              "      <td>509.0</td>\n",
              "      <td>1465.00</td>\n",
              "      <td>2211.0</td>\n",
              "      <td>3338.00</td>\n",
              "      <td>32750.0</td>\n",
              "    </tr>\n",
              "  </tbody>\n",
              "</table>\n",
              "</div>\n",
              "      <button class=\"colab-df-convert\" onclick=\"convertToInteractive('df-cf156f7d-c8ac-4553-8591-f9e73b84db16')\"\n",
              "              title=\"Convert this dataframe to an interactive table.\"\n",
              "              style=\"display:none;\">\n",
              "        \n",
              "  <svg xmlns=\"http://www.w3.org/2000/svg\" height=\"24px\"viewBox=\"0 0 24 24\"\n",
              "       width=\"24px\">\n",
              "    <path d=\"M0 0h24v24H0V0z\" fill=\"none\"/>\n",
              "    <path d=\"M18.56 5.44l.94 2.06.94-2.06 2.06-.94-2.06-.94-.94-2.06-.94 2.06-2.06.94zm-11 1L8.5 8.5l.94-2.06 2.06-.94-2.06-.94L8.5 2.5l-.94 2.06-2.06.94zm10 10l.94 2.06.94-2.06 2.06-.94-2.06-.94-.94-2.06-.94 2.06-2.06.94z\"/><path d=\"M17.41 7.96l-1.37-1.37c-.4-.4-.92-.59-1.43-.59-.52 0-1.04.2-1.43.59L10.3 9.45l-7.72 7.72c-.78.78-.78 2.05 0 2.83L4 21.41c.39.39.9.59 1.41.59.51 0 1.02-.2 1.41-.59l7.78-7.78 2.81-2.81c.8-.78.8-2.07 0-2.86zM5.41 20L4 18.59l7.72-7.72 1.47 1.35L5.41 20z\"/>\n",
              "  </svg>\n",
              "      </button>\n",
              "      \n",
              "  <style>\n",
              "    .colab-df-container {\n",
              "      display:flex;\n",
              "      flex-wrap:wrap;\n",
              "      gap: 12px;\n",
              "    }\n",
              "\n",
              "    .colab-df-convert {\n",
              "      background-color: #E8F0FE;\n",
              "      border: none;\n",
              "      border-radius: 50%;\n",
              "      cursor: pointer;\n",
              "      display: none;\n",
              "      fill: #1967D2;\n",
              "      height: 32px;\n",
              "      padding: 0 0 0 0;\n",
              "      width: 32px;\n",
              "    }\n",
              "\n",
              "    .colab-df-convert:hover {\n",
              "      background-color: #E2EBFA;\n",
              "      box-shadow: 0px 1px 2px rgba(60, 64, 67, 0.3), 0px 1px 3px 1px rgba(60, 64, 67, 0.15);\n",
              "      fill: #174EA6;\n",
              "    }\n",
              "\n",
              "    [theme=dark] .colab-df-convert {\n",
              "      background-color: #3B4455;\n",
              "      fill: #D2E3FC;\n",
              "    }\n",
              "\n",
              "    [theme=dark] .colab-df-convert:hover {\n",
              "      background-color: #434B5C;\n",
              "      box-shadow: 0px 1px 3px 1px rgba(0, 0, 0, 0.15);\n",
              "      filter: drop-shadow(0px 1px 2px rgba(0, 0, 0, 0.3));\n",
              "      fill: #FFFFFF;\n",
              "    }\n",
              "  </style>\n",
              "\n",
              "      <script>\n",
              "        const buttonEl =\n",
              "          document.querySelector('#df-cf156f7d-c8ac-4553-8591-f9e73b84db16 button.colab-df-convert');\n",
              "        buttonEl.style.display =\n",
              "          google.colab.kernel.accessAllowed ? 'block' : 'none';\n",
              "\n",
              "        async function convertToInteractive(key) {\n",
              "          const element = document.querySelector('#df-cf156f7d-c8ac-4553-8591-f9e73b84db16');\n",
              "          const dataTable =\n",
              "            await google.colab.kernel.invokeFunction('convertToInteractive',\n",
              "                                                     [key], {});\n",
              "          if (!dataTable) return;\n",
              "\n",
              "          const docLinkHtml = 'Like what you see? Visit the ' +\n",
              "            '<a target=\"_blank\" href=https://colab.research.google.com/notebooks/data_table.ipynb>data table notebook</a>'\n",
              "            + ' to learn more about interactive tables.';\n",
              "          element.innerHTML = '';\n",
              "          dataTable['output_type'] = 'display_data';\n",
              "          await google.colab.output.renderOutput(dataTable, element);\n",
              "          const docLink = document.createElement('div');\n",
              "          docLink.innerHTML = docLinkHtml;\n",
              "          element.appendChild(docLink);\n",
              "        }\n",
              "      </script>\n",
              "    </div>\n",
              "  </div>\n",
              "  "
            ]
          },
          "metadata": {},
          "execution_count": 26
        }
      ]
    },
    {
      "cell_type": "code",
      "source": [
        "#outra maneira de verificar a média dos valores cobrados por cidade para aluguel.\n",
        "media_preco = df.groupby('cidade')['total_aluguel'].median()\n",
        "media_preco"
      ],
      "metadata": {
        "colab": {
          "base_uri": "https://localhost:8080/"
        },
        "id": "FsEe37OOW8Og",
        "outputId": "0e2145b4-568b-450e-9161-5ed871225cb6"
      },
      "execution_count": 27,
      "outputs": [
        {
          "output_type": "execute_result",
          "data": {
            "text/plain": [
              "cidade\n",
              "Belo Horizonte    3040.0\n",
              "Campinas          2140.0\n",
              "Porto Alegre      2211.0\n",
              "Rio de Janeiro    3253.0\n",
              "São Paulo         4596.0\n",
              "Name: total_aluguel, dtype: float64"
            ]
          },
          "metadata": {},
          "execution_count": 27
        }
      ]
    },
    {
      "cell_type": "code",
      "source": [
        "# Visualizando de maneira gráfica utilizando o boxplot.\n",
        "plt.figure(figsize = ( 10,5))\n",
        "sns.boxplot(x = 'cidade', y = 'total_aluguel', data = df, showfliers = False) \n",
        "# utilizando showfliers, eliminaremos do gráfico os valores discrepantes ou outliers.\n",
        "plt.show()"
      ],
      "metadata": {
        "colab": {
          "base_uri": "https://localhost:8080/",
          "height": 339
        },
        "id": "252RSE-fFByD",
        "outputId": "d51eac32-194d-4968-a48b-61261949a1db"
      },
      "execution_count": 28,
      "outputs": [
        {
          "output_type": "display_data",
          "data": {
            "text/plain": [
              "<Figure size 720x360 with 1 Axes>"
            ],
            "image/png": "[encoded data removed]"
          },
          "metadata": {}
        }
      ]
    },
    {
      "cell_type": "markdown",
      "source": [
        "Dessa maneira, checamos que levando em consideração a mediana, São Paulo contém o aluguel mais caro."
      ],
      "metadata": {
        "id": "YoGDkL_2ibbf"
      }
    },
    {
      "cell_type": "markdown",
      "source": [
        "####**O preço do aluguel pode ser impactado, se o cliente tiver animais de estimação?**"
      ],
      "metadata": {
        "id": "wgOJJsm8EUvo"
      }
    },
    {
      "cell_type": "code",
      "source": [
        "df.head()"
      ],
      "metadata": {
        "id": "YrjVv0qyW8RE",
        "colab": {
          "base_uri": "https://localhost:8080/",
          "height": 250
        },
        "outputId": "8df58328-48d3-4f61-d6ac-cd11a459776d"
      },
      "execution_count": 29,
      "outputs": [
        {
          "output_type": "execute_result",
          "data": {
            "text/plain": [
              "         cidade   area  quartos  banheiros  vagas_estacionamento andar animal  \\\n",
              "0     São Paulo   70.0      2.0        1.0                   1.0     7    sim   \n",
              "1     São Paulo  320.0      4.0        4.0                   0.0    20    sim   \n",
              "2  Porto Alegre   80.0      1.0        1.0                   1.0     6    sim   \n",
              "3  Porto Alegre   51.0      2.0        1.0                   0.0     2    sim   \n",
              "4     São Paulo   25.0      1.0        1.0                   0.0     1    nao   \n",
              "\n",
              "  mobiliado  taxa_condominio  preco_aluguel  taxa_iptu  taxa_incendio  \\\n",
              "0       sim           2065.0         3300.0      211.0           42.0   \n",
              "1       nao           1200.0         4960.0     1750.0           63.0   \n",
              "2       nao           1000.0         2800.0        0.0           41.0   \n",
              "3       nao            270.0         1112.0       22.0           17.0   \n",
              "4       nao              0.0          800.0       25.0           11.0   \n",
              "\n",
              "   total_aluguel  \n",
              "0         5618.0  \n",
              "1         7973.0  \n",
              "2         3841.0  \n",
              "3         1421.0  \n",
              "4          836.0  "
            ],
            "text/html": [
              "\n",
              "  <div id=\"df-67055312-a061-46f9-88f5-3e2185780eec\">\n",
              "    <div class=\"colab-df-container\">\n",
              "      <div>\n",
              "<style scoped>\n",
              "    .dataframe tbody tr th:only-of-type {\n",
              "        vertical-align: middle;\n",
              "    }\n",
              "\n",
              "    .dataframe tbody tr th {\n",
              "        vertical-align: top;\n",
              "    }\n",
              "\n",
              "    .dataframe thead th {\n",
              "        text-align: right;\n",
              "    }\n",
              "</style>\n",
              "<table border=\"1\" class=\"dataframe\">\n",
              "  <thead>\n",
              "    <tr style=\"text-align: right;\">\n",
              "      <th></th>\n",
              "      <th>cidade</th>\n",
              "      <th>area</th>\n",
              "      <th>quartos</th>\n",
              "      <th>banheiros</th>\n",
              "      <th>vagas_estacionamento</th>\n",
              "      <th>andar</th>\n",
              "      <th>animal</th>\n",
              "      <th>mobiliado</th>\n",
              "      <th>taxa_condominio</th>\n",
              "      <th>preco_aluguel</th>\n",
              "      <th>taxa_iptu</th>\n",
              "      <th>taxa_incendio</th>\n",
              "      <th>total_aluguel</th>\n",
              "    </tr>\n",
              "  </thead>\n",
              "  <tbody>\n",
              "    <tr>\n",
              "      <th>0</th>\n",
              "      <td>São Paulo</td>\n",
              "      <td>70.0</td>\n",
              "      <td>2.0</td>\n",
              "      <td>1.0</td>\n",
              "      <td>1.0</td>\n",
              "      <td>7</td>\n",
              "      <td>sim</td>\n",
              "      <td>sim</td>\n",
              "      <td>2065.0</td>\n",
              "      <td>3300.0</td>\n",
              "      <td>211.0</td>\n",
              "      <td>42.0</td>\n",
              "      <td>5618.0</td>\n",
              "    </tr>\n",
              "    <tr>\n",
              "      <th>1</th>\n",
              "      <td>São Paulo</td>\n",
              "      <td>320.0</td>\n",
              "      <td>4.0</td>\n",
              "      <td>4.0</td>\n",
              "      <td>0.0</td>\n",
              "      <td>20</td>\n",
              "      <td>sim</td>\n",
              "      <td>nao</td>\n",
              "      <td>1200.0</td>\n",
              "      <td>4960.0</td>\n",
              "      <td>1750.0</td>\n",
              "      <td>63.0</td>\n",
              "      <td>7973.0</td>\n",
              "    </tr>\n",
              "    <tr>\n",
              "      <th>2</th>\n",
              "      <td>Porto Alegre</td>\n",
              "      <td>80.0</td>\n",
              "      <td>1.0</td>\n",
              "      <td>1.0</td>\n",
              "      <td>1.0</td>\n",
              "      <td>6</td>\n",
              "      <td>sim</td>\n",
              "      <td>nao</td>\n",
              "      <td>1000.0</td>\n",
              "      <td>2800.0</td>\n",
              "      <td>0.0</td>\n",
              "      <td>41.0</td>\n",
              "      <td>3841.0</td>\n",
              "    </tr>\n",
              "    <tr>\n",
              "      <th>3</th>\n",
              "      <td>Porto Alegre</td>\n",
              "      <td>51.0</td>\n",
              "      <td>2.0</td>\n",
              "      <td>1.0</td>\n",
              "      <td>0.0</td>\n",
              "      <td>2</td>\n",
              "      <td>sim</td>\n",
              "      <td>nao</td>\n",
              "      <td>270.0</td>\n",
              "      <td>1112.0</td>\n",
              "      <td>22.0</td>\n",
              "      <td>17.0</td>\n",
              "      <td>1421.0</td>\n",
              "    </tr>\n",
              "    <tr>\n",
              "      <th>4</th>\n",
              "      <td>São Paulo</td>\n",
              "      <td>25.0</td>\n",
              "      <td>1.0</td>\n",
              "      <td>1.0</td>\n",
              "      <td>0.0</td>\n",
              "      <td>1</td>\n",
              "      <td>nao</td>\n",
              "      <td>nao</td>\n",
              "      <td>0.0</td>\n",
              "      <td>800.0</td>\n",
              "      <td>25.0</td>\n",
              "      <td>11.0</td>\n",
              "      <td>836.0</td>\n",
              "    </tr>\n",
              "  </tbody>\n",
              "</table>\n",
              "</div>\n",
              "      <button class=\"colab-df-convert\" onclick=\"convertToInteractive('df-67055312-a061-46f9-88f5-3e2185780eec')\"\n",
              "              title=\"Convert this dataframe to an interactive table.\"\n",
              "              style=\"display:none;\">\n",
              "        \n",
              "  <svg xmlns=\"http://www.w3.org/2000/svg\" height=\"24px\"viewBox=\"0 0 24 24\"\n",
              "       width=\"24px\">\n",
              "    <path d=\"M0 0h24v24H0V0z\" fill=\"none\"/>\n",
              "    <path d=\"M18.56 5.44l.94 2.06.94-2.06 2.06-.94-2.06-.94-.94-2.06-.94 2.06-2.06.94zm-11 1L8.5 8.5l.94-2.06 2.06-.94-2.06-.94L8.5 2.5l-.94 2.06-2.06.94zm10 10l.94 2.06.94-2.06 2.06-.94-2.06-.94-.94-2.06-.94 2.06-2.06.94z\"/><path d=\"M17.41 7.96l-1.37-1.37c-.4-.4-.92-.59-1.43-.59-.52 0-1.04.2-1.43.59L10.3 9.45l-7.72 7.72c-.78.78-.78 2.05 0 2.83L4 21.41c.39.39.9.59 1.41.59.51 0 1.02-.2 1.41-.59l7.78-7.78 2.81-2.81c.8-.78.8-2.07 0-2.86zM5.41 20L4 18.59l7.72-7.72 1.47 1.35L5.41 20z\"/>\n",
              "  </svg>\n",
              "      </button>\n",
              "      \n",
              "  <style>\n",
              "    .colab-df-container {\n",
              "      display:flex;\n",
              "      flex-wrap:wrap;\n",
              "      gap: 12px;\n",
              "    }\n",
              "\n",
              "    .colab-df-convert {\n",
              "      background-color: #E8F0FE;\n",
              "      border: none;\n",
              "      border-radius: 50%;\n",
              "      cursor: pointer;\n",
              "      display: none;\n",
              "      fill: #1967D2;\n",
              "      height: 32px;\n",
              "      padding: 0 0 0 0;\n",
              "      width: 32px;\n",
              "    }\n",
              "\n",
              "    .colab-df-convert:hover {\n",
              "      background-color: #E2EBFA;\n",
              "      box-shadow: 0px 1px 2px rgba(60, 64, 67, 0.3), 0px 1px 3px 1px rgba(60, 64, 67, 0.15);\n",
              "      fill: #174EA6;\n",
              "    }\n",
              "\n",
              "    [theme=dark] .colab-df-convert {\n",
              "      background-color: #3B4455;\n",
              "      fill: #D2E3FC;\n",
              "    }\n",
              "\n",
              "    [theme=dark] .colab-df-convert:hover {\n",
              "      background-color: #434B5C;\n",
              "      box-shadow: 0px 1px 3px 1px rgba(0, 0, 0, 0.15);\n",
              "      filter: drop-shadow(0px 1px 2px rgba(0, 0, 0, 0.3));\n",
              "      fill: #FFFFFF;\n",
              "    }\n",
              "  </style>\n",
              "\n",
              "      <script>\n",
              "        const buttonEl =\n",
              "          document.querySelector('#df-67055312-a061-46f9-88f5-3e2185780eec button.colab-df-convert');\n",
              "        buttonEl.style.display =\n",
              "          google.colab.kernel.accessAllowed ? 'block' : 'none';\n",
              "\n",
              "        async function convertToInteractive(key) {\n",
              "          const element = document.querySelector('#df-67055312-a061-46f9-88f5-3e2185780eec');\n",
              "          const dataTable =\n",
              "            await google.colab.kernel.invokeFunction('convertToInteractive',\n",
              "                                                     [key], {});\n",
              "          if (!dataTable) return;\n",
              "\n",
              "          const docLinkHtml = 'Like what you see? Visit the ' +\n",
              "            '<a target=\"_blank\" href=https://colab.research.google.com/notebooks/data_table.ipynb>data table notebook</a>'\n",
              "            + ' to learn more about interactive tables.';\n",
              "          element.innerHTML = '';\n",
              "          dataTable['output_type'] = 'display_data';\n",
              "          await google.colab.output.renderOutput(dataTable, element);\n",
              "          const docLink = document.createElement('div');\n",
              "          docLink.innerHTML = docLinkHtml;\n",
              "          element.appendChild(docLink);\n",
              "        }\n",
              "      </script>\n",
              "    </div>\n",
              "  </div>\n",
              "  "
            ]
          },
          "metadata": {},
          "execution_count": 29
        }
      ]
    },
    {
      "cell_type": "code",
      "source": [
        "#Verificando se existe outra opção além de permitido ou não, animais de estimação.\n",
        "df['animal'].unique()"
      ],
      "metadata": {
        "id": "368nJ_leW8UG",
        "colab": {
          "base_uri": "https://localhost:8080/"
        },
        "outputId": "cbe04cec-bba1-43cc-dbac-3cb6731be39f"
      },
      "execution_count": 30,
      "outputs": [
        {
          "output_type": "execute_result",
          "data": {
            "text/plain": [
              "array(['sim', 'nao'], dtype=object)"
            ]
          },
          "metadata": {},
          "execution_count": 30
        }
      ]
    },
    {
      "cell_type": "code",
      "source": [
        "df['animal'].value_counts()"
      ],
      "metadata": {
        "colab": {
          "base_uri": "https://localhost:8080/"
        },
        "id": "y0yZTda2G02y",
        "outputId": "7f746f8f-3da0-4125-ed61-2c5729dbdf35"
      },
      "execution_count": 31,
      "outputs": [
        {
          "output_type": "execute_result",
          "data": {
            "text/plain": [
              "sim    8316\n",
              "nao    2376\n",
              "Name: animal, dtype: int64"
            ]
          },
          "metadata": {},
          "execution_count": 31
        }
      ]
    },
    {
      "cell_type": "code",
      "source": [
        "#Cálculo da porcentagem de imóveis que aceitam ou não animais de estimação.\n",
        "porc_animal= 100*df['animal'].value_counts(normalize = True).round(2)\n",
        "porc_animal"
      ],
      "metadata": {
        "colab": {
          "base_uri": "https://localhost:8080/"
        },
        "id": "XVvzLsPmG05q",
        "outputId": "92baf2ea-81c6-4ee1-a1a0-a23ee664e4a8"
      },
      "execution_count": 32,
      "outputs": [
        {
          "output_type": "execute_result",
          "data": {
            "text/plain": [
              "sim    78.0\n",
              "nao    22.0\n",
              "Name: animal, dtype: float64"
            ]
          },
          "metadata": {},
          "execution_count": 32
        }
      ]
    },
    {
      "cell_type": "code",
      "source": [
        "#Maneira gráfica de visualizar o total de imóveis que aceitam animais de estimação e que não aceitam.\n",
        "plt.figure(figsize=(10,5))\n",
        "sns.countplot(df['animal'])\n",
        "plt.show()"
      ],
      "metadata": {
        "colab": {
          "base_uri": "https://localhost:8080/",
          "height": 394
        },
        "id": "yUe2uHamG08y",
        "outputId": "9a8e505f-0bac-433f-db96-1b26362cc0c3"
      },
      "execution_count": 33,
      "outputs": [
        {
          "output_type": "stream",
          "name": "stderr",
          "text": [
            "/usr/local/lib/python3.8/dist-packages/seaborn/_decorators.py:36: FutureWarning: Pass the following variable as a keyword arg: x. From version 0.12, the only valid positional argument will be `data`, and passing other arguments without an explicit keyword will result in an error or misinterpretation.\n",
            "  warnings.warn(\n"
          ]
        },
        {
          "output_type": "display_data",
          "data": {
            "text/plain": [
              "<Figure size 720x360 with 1 Axes>"
            ],
            "image/png": "[encoded data removed]"
          },
          "metadata": {}
        }
      ]
    },
    {
      "cell_type": "code",
      "source": [
        "#Demonstração gráfica do resultado da porcentagem de imóveis que aceitam animais.\n",
        "label = df['animal'].unique()\n",
        "porcentagem_tipos = porc_animal= 100*df['animal'].value_counts(normalize = True).round(2)\n",
        "separar = (0.1, 0)\n",
        "\n",
        "plt.figure(figsize = (15,5)) \n",
        "\n",
        "plt.pie(x = porcentagem_tipos, labels = label, explode= separar, autopct= '%1.1f%%', startangle = 90, shadow= True)\n",
        "\n",
        "plt.show()"
      ],
      "metadata": {
        "colab": {
          "base_uri": "https://localhost:8080/",
          "height": 303
        },
        "id": "hzYrdD_Zf5w_",
        "outputId": "0242b7c1-a46e-4284-8982-1902eacc32c8"
      },
      "execution_count": 34,
      "outputs": [
        {
          "output_type": "display_data",
          "data": {
            "text/plain": [
              "<Figure size 1080x360 with 1 Axes>"
            ],
            "image/png": "[encoded data removed]"
          },
          "metadata": {}
        }
      ]
    },
    {
      "cell_type": "markdown",
      "source": [
        "Somente duas opçãos estão disponíveis nesse dataframe e 78% dos imóveis aceitam animais."
      ],
      "metadata": {
        "id": "VabNiG0bG2dv"
      }
    },
    {
      "cell_type": "code",
      "source": [
        "# utilizando o groupby, ordenando a coluna animais em relação a coluna total_aluguel, podemos calcular a mediana\n",
        "# de preços para imóveis que aceitam e imóveis que não aceitam animais.\n",
        "media_preco_com_animal = df.groupby('animal')['total_aluguel'].median()\n",
        "media_preco_com_animal"
      ],
      "metadata": {
        "colab": {
          "base_uri": "https://localhost:8080/"
        },
        "id": "3sbM8sF9G0_T",
        "outputId": "ad9c6f22-a1ad-40bd-cc74-a2254f519603"
      },
      "execution_count": 35,
      "outputs": [
        {
          "output_type": "execute_result",
          "data": {
            "text/plain": [
              "animal\n",
              "nao    3217.5\n",
              "sim    3701.0\n",
              "Name: total_aluguel, dtype: float64"
            ]
          },
          "metadata": {},
          "execution_count": 35
        }
      ]
    },
    {
      "cell_type": "markdown",
      "source": [
        "No geral, levando em consideração a mediana, os imóveis que aceitam animais tem o valor  maior do que o valor dos imóveis que não aceitam animais."
      ],
      "metadata": {
        "id": "biBtvzm7JAzn"
      }
    },
    {
      "cell_type": "code",
      "source": [
        "#utilizando o grafico barplot, podemos visualizar o valor medio pago por cidade, de imóveis que aceitam ou não animais.\n",
        "plt.figure(figsize=(10,5))\n",
        "# utilizando o parâmetro hue para a coluna animal, conseguimos concatenar as irnfomações de valor da mediana paga com ou sem animais, por cidades existentes\n",
        "sns.barplot(x = df['cidade'], y = df['total_aluguel'], hue = df['animal'], ci = False, estimator= np.median)\n",
        "\n",
        "plt.show()"
      ],
      "metadata": {
        "colab": {
          "base_uri": "https://localhost:8080/",
          "height": 339
        },
        "id": "LVmIVUEMI3ID",
        "outputId": "92c1aa85-693d-4f00-fa8f-f42b098df7e2"
      },
      "execution_count": 36,
      "outputs": [
        {
          "output_type": "display_data",
          "data": {
            "text/plain": [
              "<Figure size 720x360 with 1 Axes>"
            ],
            "image/png": "[encoded data removed]"
          },
          "metadata": {}
        }
      ]
    },
    {
      "cell_type": "markdown",
      "source": [
        "Chegamos a conclusão que em São Paulo, Campinas e Belo Horizonte, o fato de ter animais de estimação resulta em um valor mais alto ao fechar o aluguel de um imóvel, e em Porto Alegre e no Rio de Janeiro, praticamente não existe diferença em ter ou não, animais de estimação em relação ao preço de aluguel."
      ],
      "metadata": {
        "id": "5qXpXkJpNgwi"
      }
    },
    {
      "cell_type": "markdown",
      "source": [
        "####**Em imóveis mobiliados, o valor do aluguel é maior?**"
      ],
      "metadata": {
        "id": "FEO1yoVuONcU"
      }
    },
    {
      "cell_type": "code",
      "source": [
        "#Verificando se existe outra opção além de mobiliado ou não.\n",
        "df['animal'].unique()"
      ],
      "metadata": {
        "colab": {
          "base_uri": "https://localhost:8080/"
        },
        "id": "tFwMK7hpI3Kx",
        "outputId": "edf768fe-cb71-458b-a836-31fd1e5ebd78"
      },
      "execution_count": 37,
      "outputs": [
        {
          "output_type": "execute_result",
          "data": {
            "text/plain": [
              "array(['sim', 'nao'], dtype=object)"
            ]
          },
          "metadata": {},
          "execution_count": 37
        }
      ]
    },
    {
      "cell_type": "code",
      "source": [
        "#Verificando a quantidade de imóveis mobiliados ou não \n",
        "df['mobiliado'].value_counts()"
      ],
      "metadata": {
        "colab": {
          "base_uri": "https://localhost:8080/"
        },
        "id": "8uYZDNDsI3Pr",
        "outputId": "b8f23cc7-0169-48af-e3e9-3de12f9cd93c"
      },
      "execution_count": 38,
      "outputs": [
        {
          "output_type": "execute_result",
          "data": {
            "text/plain": [
              "nao    8086\n",
              "sim    2606\n",
              "Name: mobiliado, dtype: int64"
            ]
          },
          "metadata": {},
          "execution_count": 38
        }
      ]
    },
    {
      "cell_type": "code",
      "source": [
        "#Rwpresentação gráfica do total de imóveis mobiliados ou não.\n",
        "plt.figure(figsize=(10,5))\n",
        "sns.countplot(df['mobiliado'])\n",
        "plt.show()"
      ],
      "metadata": {
        "colab": {
          "base_uri": "https://localhost:8080/",
          "height": 394
        },
        "id": "qxeDrRL7PV0a",
        "outputId": "b2330c1b-ca63-403a-b6fa-92ed9c1b7084"
      },
      "execution_count": 39,
      "outputs": [
        {
          "output_type": "stream",
          "name": "stderr",
          "text": [
            "/usr/local/lib/python3.8/dist-packages/seaborn/_decorators.py:36: FutureWarning: Pass the following variable as a keyword arg: x. From version 0.12, the only valid positional argument will be `data`, and passing other arguments without an explicit keyword will result in an error or misinterpretation.\n",
            "  warnings.warn(\n"
          ]
        },
        {
          "output_type": "display_data",
          "data": {
            "text/plain": [
              "<Figure size 720x360 with 1 Axes>"
            ],
            "image/png": "[encoded data removed]"
          },
          "metadata": {}
        }
      ]
    },
    {
      "cell_type": "code",
      "source": [
        "#Verificando a porcentagem de imóveis mobiliados ou não \n",
        "porc_mobiliado= 100*df['mobiliado'].value_counts(normalize = True).round(2)\n",
        "porc_mobiliado"
      ],
      "metadata": {
        "colab": {
          "base_uri": "https://localhost:8080/"
        },
        "id": "-M0jnVObI3Na",
        "outputId": "4f103919-420b-426b-bc22-141ae4dcf6c3"
      },
      "execution_count": 40,
      "outputs": [
        {
          "output_type": "execute_result",
          "data": {
            "text/plain": [
              "nao    76.0\n",
              "sim    24.0\n",
              "Name: mobiliado, dtype: float64"
            ]
          },
          "metadata": {},
          "execution_count": 40
        }
      ]
    },
    {
      "cell_type": "markdown",
      "source": [
        "Apenas 24% dos imóveis disponíveis estão com mobilia disponível, tornando a oferta menor."
      ],
      "metadata": {
        "id": "mQD2mLL8QDu-"
      }
    },
    {
      "cell_type": "code",
      "source": [
        "# utilizando o groupby, ordenando a coluna mobiliado em relação a coluna total_aluguel, podemos calcular a mediana\n",
        "# de preços para imóveis mobiliados ou não.\n",
        "media_preco_com_animal = df.groupby('mobiliado')['total_aluguel'].median()\n",
        "media_preco_com_animal"
      ],
      "metadata": {
        "colab": {
          "base_uri": "https://localhost:8080/"
        },
        "id": "1V7fgW6MO5dj",
        "outputId": "171737cf-6d23-4be1-ae86-644cb42220b8"
      },
      "execution_count": 41,
      "outputs": [
        {
          "output_type": "execute_result",
          "data": {
            "text/plain": [
              "mobiliado\n",
              "nao    3170.0\n",
              "sim    4855.5\n",
              "Name: total_aluguel, dtype: float64"
            ]
          },
          "metadata": {},
          "execution_count": 41
        }
      ]
    },
    {
      "cell_type": "code",
      "source": [
        "#utilizando o grafico barplot, podemos visualizar o valor mediano pago por cidade, de imóveis mobiliados ou não.\n",
        "plt.figure(figsize=(10,5))\n",
        "sns.barplot(x = df['cidade'], y = df['total_aluguel'], hue = df['mobiliado'], ci = False, estimator= np.median)\n",
        "\n",
        "plt.show()"
      ],
      "metadata": {
        "colab": {
          "base_uri": "https://localhost:8080/",
          "height": 339
        },
        "id": "yvvLxdIkO5gU",
        "outputId": "b651c069-f679-4be0-c12c-68932481e308"
      },
      "execution_count": 42,
      "outputs": [
        {
          "output_type": "display_data",
          "data": {
            "text/plain": [
              "<Figure size 720x360 with 1 Axes>"
            ],
            "image/png": "[encoded data removed]"
          },
          "metadata": {}
        }
      ]
    },
    {
      "cell_type": "code",
      "source": [
        "#Outra maneira gráfica de visualizar, é usando o cartplox com o tipo de barras, para visualizar os valores cobrados por cidade.\n",
        "plt.figure(figsize = (15,5))\n",
        "sns.catplot(x = 'cidade', y = 'total_aluguel', col = 'mobiliado', kind = 'bar', data = df)"
      ],
      "metadata": {
        "colab": {
          "base_uri": "https://localhost:8080/",
          "height": 400
        },
        "id": "bxoez4tPO5i7",
        "outputId": "5d6b95f4-db5e-4ee2-9713-15936e0e5917"
      },
      "execution_count": 43,
      "outputs": [
        {
          "output_type": "execute_result",
          "data": {
            "text/plain": [
              "<seaborn.axisgrid.FacetGrid at 0x7f391252bb20>"
            ]
          },
          "metadata": {},
          "execution_count": 43
        },
        {
          "output_type": "display_data",
          "data": {
            "text/plain": [
              "<Figure size 1080x360 with 0 Axes>"
            ]
          },
          "metadata": {}
        },
        {
          "output_type": "display_data",
          "data": {
            "text/plain": [
              "<Figure size 720x360 with 2 Axes>"
            ],
            "image/png": "[encoded data removed]"
          },
          "metadata": {}
        }
      ]
    },
    {
      "cell_type": "markdown",
      "source": [
        "Chegamos a conclusão que a quantidade de imóveis mobiliados disponíveis é bem meno do que não mobiliados, e o fator mobiliado afeta o preço de aluguel em toda as cidades contidas no estudo."
      ],
      "metadata": {
        "id": "ETkjtVhOPw3O"
      }
    },
    {
      "cell_type": "code",
      "source": [],
      "metadata": {
        "id": "DYcR9PkMO5pn"
      },
      "execution_count": null,
      "outputs": []
    }
  ]
}